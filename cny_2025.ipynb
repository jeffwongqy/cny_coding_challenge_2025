{
 "cells": [
  {
   "cell_type": "markdown",
   "metadata": {},
   "source": [
    "# **Chinese New Year Coding Challenge 2025**"
   ]
  },
  {
   "cell_type": "markdown",
   "metadata": {},
   "source": [
    "Chinese New Year (新年) aka Spring Festival (春节), is one of the most important festivals in Chinese culture. It has been celebrated in China for thousands of years. People celebrate by decorating their interior in red using red couplets of Chinese poetry, lanterns and colourful flowers. The festival is also the opportunity for Chinese people around the world to prepare and enjoy a range of traditional food dishes and to celebrate by watching traditional dragons and lions dances."
   ]
  },
  {
   "cell_type": "markdown",
   "metadata": {},
   "source": [
    "### **Chinese Zodiac Signs**"
   ]
  },
  {
   "cell_type": "markdown",
   "metadata": {},
   "source": [
    "The Chinese New Year is based on the Lunar calendar and typically falls at the end of January or in February depending on the Moon cycle. Every year is associated with an animal corresponding to a Chinese Zodiac sign. There is a 12-year cycle with twelve zodiac signs in the following order:\n",
    "\n",
    "| Animinal/ Zodiac Sign | Years |\n",
    "| ----------------------| ------|\n",
    "| Rat                   | 1912, 1924, 1936, 1948, 1960, 1972, 1984, 1996, 2008, 2020|\n",
    "| Ox                    | 1913, 1925, 1937, 1949, 1961, 1973, 1985, 1997, 2009, 2021|\n",
    "| Tiger                 | 1914, 1926, 1938, 1950, 1962, 1974, 1986, 1998, 2010, 2022|\n",
    "| Rabbit                | 1915, 1927, 1939, 1951, 1963, 1975, 1987, 1999, 2011, 2023|\n",
    "| Dragon                | 1916, 1928, 1940, 1952, 1964, 1976, 1988, 2000, 2012, 2024|\n",
    "| Snake                 | 1917, 1929, 1941, 1953, 1965, 1977, 1989, 2001, 2013, 2025|\n",
    "| Horse                 | 1918, 1930, 1942, 1954, 1966, 1978, 1990, 2002, 2014, 2026|\n",
    "| Sheep                 | 1919, 1931, 1943, 1955, 1967, 1979, 1991, 2003, 2015, 2027|\n",
    "| Monkey                | 1920, 1932, 1944, 1956, 1968, 1980, 1992, 2004, 2016, 2028|\n",
    "| Rooster               | 1921, 1933, 1945, 1957, 1969, 1981, 1993, 2005, 2017, 2029|\n",
    "| Dog                   | 1922, 1934, 1946, 1958, 1970, 1982, 1994, 2006, 2018, 2030|\n",
    "| Pig                   | 1923, 1935, 1947, 1959, 1971, 1983, 1995, 2007, 2019, 2031|"
   ]
  },
  {
   "cell_type": "markdown",
   "metadata": {},
   "source": [
    "So this year we will celebrate Chinese New Year on January 29th 2025 and the Chinese Zodiac sign / animal for 2025 is the Snake! Maybe a sign that you could dedicate this year to boosting your coding skills using Python 😉"
   ]
  },
  {
   "cell_type": "markdown",
   "metadata": {},
   "source": [
    "### **Coding Challenge**"
   ]
  },
  {
   "cell_type": "markdown",
   "metadata": {},
   "source": [
    "For this challenge, you are going to write a Python program that will ask the user to enter the year of their date of birth. Your program will then inform the user of their Chinese Zodiac sign matching their date of birth."
   ]
  },
  {
   "cell_type": "code",
   "execution_count": 10,
   "metadata": {},
   "outputs": [
    {
     "name": "stdout",
     "output_type": "stream",
     "text": [
      "Your Chinese Zodiac sign is: Horse\n"
     ]
    }
   ],
   "source": [
    "# define a list of zodiac animals \n",
    "zodiac_animals = [\"Monkey\", \"Rooster\", \"Dog\", \"Pig\", \"Rat\", \"Ox\", \"Tiger\", \"Rabbit\", \"Dragon\", \"Snake\", \"Horse\", \"Goat\"]\n",
    "\n",
    "# prompt the user to enter the year was born\n",
    "year = int(input(\"Enter a year (e.g. the year you were born): \"))\n",
    "\n",
    "# match the chinese zodiac sign based on the date of birth year \n",
    "match_chinese_zodiac = zodiac_animals[year % 12]\n",
    "\n",
    "# display the match chinese zodiac sign \n",
    "print(\"Your Chinese Zodiac sign is: {}\".format(match_chinese_zodiac))\n"
   ]
  },
  {
   "cell_type": "markdown",
   "metadata": {},
   "source": [
    "### **Test Plan**"
   ]
  },
  {
   "cell_type": "markdown",
   "metadata": {},
   "source": [
    "Complete the folowing test plan to check if your code is giving you the correct zodiac signs for he following years (using both past and future years):\n",
    "\n",
    "| Test # | Input Values | Expected Output | Actual Output |\n",
    "|--------| -------------| ----------------| --------------|\n",
    "| 1      | 2007         | Pig             |               |\n",
    "| 2      | 2021         | Ox              |               |\n",
    "| 3      | 1998         | Tiger           |               |\n",
    "| 4      | 1912         | Rat             |               |\n",
    "| 5      | 1789         | Rooster         |               |\n",
    "| 6      | 2050         | Horse           |               |\n",
    "| 7      | 2100         | Monkey          |               |"
   ]
  },
  {
   "cell_type": "markdown",
   "metadata": {},
   "source": [
    "### **Extension Task 1:**"
   ]
  },
  {
   "cell_type": "markdown",
   "metadata": {},
   "source": [
    "With the year matching your date of Birth you can also work out what is your Chinese Zodiac element.\n",
    "\n",
    "To do so you wil need to check the last digit of your birth year. if this last digit is:\n",
    "\n",
    "* 0 or 1: Your element is Metal\n",
    "\n",
    "* 2 or 3: Your element is Water\n",
    "\n",
    "* 4 or 5: Your element is Wood\n",
    "\n",
    "* 6 or 7: Your element is Fire\n",
    "\n",
    "* 8 or 9: Your element is Earth\n",
    "\n",
    "Your task is to tweak your Python code so that when the user enters a date, your program outputs both the Chinese Zodiac sign and the Chinese Zodiac element corresponding to the given year."
   ]
  },
  {
   "cell_type": "code",
   "execution_count": 16,
   "metadata": {},
   "outputs": [
    {
     "name": "stdout",
     "output_type": "stream",
     "text": [
      "Your Chinese Zodiac sign is Horse and Chinese Zodiac element is Metal.\n"
     ]
    }
   ],
   "source": [
    "# check the last digit \n",
    "check_last_digit = int(str(year)[-1])\n",
    "\n",
    "# check the last digit of your birth year \n",
    "if check_last_digit == 0 or check_last_digit == 1:\n",
    "    chinese_zodiac_element = \"Metal\"\n",
    "elif check_last_digit == 2 or check_last_digit == 3:\n",
    "    chinese_zodiac_element = \"Water\"\n",
    "elif check_last_digit == 4 or check_last_digit == 5:\n",
    "    chinese_zodiac_element = \"Wood\"\n",
    "elif check_last_digit == 6 or check_last_digit == 7:\n",
    "    chinese_zodiac_element = \"Fire\"\n",
    "elif check_last_digit == 8 or check_last_digit == 9:\n",
    "    chinese_zodiac_element = \"Earth\"\n",
    "\n",
    "# display output \n",
    "print(\"Your Chinese Zodiac sign is {} and Chinese Zodiac element is {}.\".format(match_chinese_zodiac, chinese_zodiac_element))"
   ]
  },
  {
   "cell_type": "markdown",
   "metadata": {},
   "source": [
    "### **Extension Task 2:**"
   ]
  },
  {
   "cell_type": "markdown",
   "metadata": {},
   "source": [
    "Each Zodiac sign has specific attributes which can be used to describe the year to come.\n",
    "\n",
    "We have stored these attributes using a dictionary:\n",
    "\n",
    "animals = {\"Dragon\":\"Charismatic, powerful, and ambitious, the Dragon is a symbol of strength and good fortune.\",\n",
    "        \"Snake\":\"Wise, intuitive, and elegant, the Snake is calm and strategic, with a deep understanding of the world.\",\n",
    "        \"Horse\":\"Energetic, free-spirited, and optimistic, the Horse loves adventure and pursues goals with enthusiasm.\",\n",
    "        \"Ram\":\"Creative, gentle, and empathetic, the Goat seeks beauty and tranquillity, often expressing artistic talents.\",\n",
    "        \"Monkey\":\"Intelligent, playful, and clever, the Monkey is resourceful and loves solving problems with wit and charm.\",\n",
    "        \"Rooster\":\"Confident, honest, and hardworking, the Rooster is practical, ambitious, and detail-oriented.\",\n",
    "        \"Dog\":\"Loyal, trustworthy, and protective, the Dog is compassionate and always stands up for what’s right.\",\n",
    "        \"Pig\":\"Generous, kind-hearted, and sincere, the Pig is known for its honesty, hard work, and love of comfort.\",\n",
    "        \"Rat\":\"Intelligent, resourceful, and quick-witted, the Rat excels in finding opportunities and achieving success.\",\n",
    "        \"Ox\":\"Strong, determined, and reliable, the Ox is known for its hardworking nature and steadfast loyalty.\",\n",
    "        \"Tiger\":\"Bold, adventurous, and confident, the Tiger is a natural leader who thrives on challenges.\",\n",
    "        \"Rabbit\":\"Gentle, compassionate, and creative, the Rabbit seeks peace and harmony in its surroundings.\"\n",
    "}\n",
    "\n",
    "Your task is to tweak your code to display the corresponding description of the zodiac sign for the given year."
   ]
  },
  {
   "cell_type": "code",
   "execution_count": 17,
   "metadata": {},
   "outputs": [
    {
     "name": "stdout",
     "output_type": "stream",
     "text": [
      "Energetic, free-spirited, and optimistic, the Horse loves adventure and pursues goals with enthusiasm.\n"
     ]
    }
   ],
   "source": [
    "# define the following attributes into a dictionary\n",
    "animals = {\"Dragon\":\"Charismatic, powerful, and ambitious, the Dragon is a symbol of strength and good fortune.\",\n",
    "        \"Snake\":\"Wise, intuitive, and elegant, the Snake is calm and strategic, with a deep understanding of the world.\",\n",
    "        \"Horse\":\"Energetic, free-spirited, and optimistic, the Horse loves adventure and pursues goals with enthusiasm.\",\n",
    "        \"Ram\":\"Creative, gentle, and empathetic, the Goat seeks beauty and tranquillity, often expressing artistic talents.\",\n",
    "        \"Monkey\":\"Intelligent, playful, and clever, the Monkey is resourceful and loves solving problems with wit and charm.\",\n",
    "        \"Rooster\":\"Confident, honest, and hardworking, the Rooster is practical, ambitious, and detail-oriented.\",\n",
    "        \"Dog\":\"Loyal, trustworthy, and protective, the Dog is compassionate and always stands up for what’s right.\",\n",
    "        \"Pig\":\"Generous, kind-hearted, and sincere, the Pig is known for its honesty, hard work, and love of comfort.\",\n",
    "        \"Rat\":\"Intelligent, resourceful, and quick-witted, the Rat excels in finding opportunities and achieving success.\",\n",
    "        \"Ox\":\"Strong, determined, and reliable, the Ox is known for its hardworking nature and steadfast loyalty.\",\n",
    "        \"Tiger\":\"Bold, adventurous, and confident, the Tiger is a natural leader who thrives on challenges.\",\n",
    "        \"Rabbit\":\"Gentle, compassionate, and creative, the Rabbit seeks peace and harmony in its surroundings.\"}\n",
    "\n",
    "# display the corresponding description of the zodiac sign for the given year\n",
    "for key, value in animals.items():\n",
    "    if key is match_chinese_zodiac:\n",
    "        print(value)"
   ]
  }
 ],
 "metadata": {
  "kernelspec": {
   "display_name": "env_name",
   "language": "python",
   "name": "python3"
  },
  "language_info": {
   "codemirror_mode": {
    "name": "ipython",
    "version": 3
   },
   "file_extension": ".py",
   "mimetype": "text/x-python",
   "name": "python",
   "nbconvert_exporter": "python",
   "pygments_lexer": "ipython3",
   "version": "3.11.5"
  }
 },
 "nbformat": 4,
 "nbformat_minor": 2
}
